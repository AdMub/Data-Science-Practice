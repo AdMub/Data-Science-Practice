{
  "cells": [
    {
      "cell_type": "markdown",
      "metadata": {
        "id": "2ID0daxpZGom"
      },
      "source": [
        "**MNIST Multi-Layer Perceptron**"
      ]
    },
    {
      "cell_type": "code",
      "execution_count": null,
      "metadata": {
        "id": "IT_jVqAlV7mZ"
      },
      "outputs": [],
      "source": [
        "import tensorflow as tf"
      ]
    },
    {
      "cell_type": "code",
      "execution_count": null,
      "metadata": {
        "id": "vPBWBGnLEoyt"
      },
      "outputs": [],
      "source": [
        "import tensorflow_datasets as tfds"
      ]
    },
    {
      "cell_type": "code",
      "execution_count": null,
      "metadata": {
        "colab": {
          "base_uri": "https://localhost:8080/",
          "height": 104,
          "referenced_widgets": [
            "3d6ba575bd2e43f8b80fcb2b2fa997d0",
            "921867af645e4252a578d4454d0f8e8c",
            "288b7472bdcd4e71a5202678e47b79ae",
            "a8889e20c5b445c5a37b8520c13ed010",
            "096a4bcf2942416d9174bea70225838f",
            "1ac53a0ed01b4e668c0e52ef40567dc6",
            "5168200e666f49f298e605ee8715e27f",
            "edb6176aa9ac49aba76c2688e029c59c",
            "5feda3fb0e614d98b49ed551c88f312b",
            "d289d47c0b794877b1bf0ee971447b8e",
            "e2fb8e9689e94dbeac6a7398b49a7b7c"
          ]
        },
        "id": "iwsHWW8qD6XY",
        "outputId": "df2907df-897a-49b5-f294-88748c2c4982"
      },
      "outputs": [
        {
          "output_type": "stream",
          "name": "stdout",
          "text": [
            "Downloading and preparing dataset 11.06 MiB (download: 11.06 MiB, generated: 21.00 MiB, total: 32.06 MiB) to /root/tensorflow_datasets/mnist/3.0.1...\n"
          ]
        },
        {
          "output_type": "display_data",
          "data": {
            "text/plain": [
              "Dl Completed...:   0%|          | 0/5 [00:00<?, ? file/s]"
            ],
            "application/vnd.jupyter.widget-view+json": {
              "version_major": 2,
              "version_minor": 0,
              "model_id": "3d6ba575bd2e43f8b80fcb2b2fa997d0"
            }
          },
          "metadata": {}
        },
        {
          "output_type": "stream",
          "name": "stdout",
          "text": [
            "Dataset mnist downloaded and prepared to /root/tensorflow_datasets/mnist/3.0.1. Subsequent calls will reuse this data.\n"
          ]
        }
      ],
      "source": [
        "# Load the MNIST dataset\n",
        "mnist, info = tfds.load('mnist', with_info=True, as_supervised=True, split='train') # Finish the function call by specifying the split"
      ]
    },
    {
      "cell_type": "code",
      "execution_count": null,
      "metadata": {
        "colab": {
          "base_uri": "https://localhost:8080/"
        },
        "id": "26XVoJjLHgmA",
        "outputId": "130190a6-42fb-40ea-986e-e111ebc25035"
      },
      "outputs": [
        {
          "output_type": "stream",
          "name": "stdout",
          "text": [
            "tfds.core.DatasetInfo(\n",
            "    name='mnist',\n",
            "    full_name='mnist/3.0.1',\n",
            "    description=\"\"\"\n",
            "    The MNIST database of handwritten digits.\n",
            "    \"\"\",\n",
            "    homepage='http://yann.lecun.com/exdb/mnist/',\n",
            "    data_dir='/root/tensorflow_datasets/mnist/incomplete.LDO5S3_3.0.1/',\n",
            "    file_format=tfrecord,\n",
            "    download_size=11.06 MiB,\n",
            "    dataset_size=21.00 MiB,\n",
            "    features=FeaturesDict({\n",
            "        'image': Image(shape=(28, 28, 1), dtype=uint8),\n",
            "        'label': ClassLabel(shape=(), dtype=int64, num_classes=10),\n",
            "    }),\n",
            "    supervised_keys=('image', 'label'),\n",
            "    disable_shuffling=False,\n",
            "    splits={\n",
            "        'test': <SplitInfo num_examples=10000, num_shards=1>,\n",
            "        'train': <SplitInfo num_examples=60000, num_shards=1>,\n",
            "    },\n",
            "    citation=\"\"\"@article{lecun2010mnist,\n",
            "      title={MNIST handwritten digit database},\n",
            "      author={LeCun, Yann and Cortes, Corinna and Burges, CJ},\n",
            "      journal={ATT Labs [Online]. Available: http://yann.lecun.com/exdb/mnist},\n",
            "      volume={2},\n",
            "      year={2010}\n",
            "    }\"\"\",\n",
            ")\n"
          ]
        }
      ],
      "source": [
        "print(info)"
      ]
    },
    {
      "cell_type": "code",
      "execution_count": null,
      "metadata": {
        "colab": {
          "base_uri": "https://localhost:8080/"
        },
        "id": "XDWpl2hCNGpb",
        "outputId": "dfd0944a-310a-401d-ba03-54c3cc5cc39b"
      },
      "outputs": [
        {
          "output_type": "stream",
          "name": "stdout",
          "text": [
            "Downloading data from https://storage.googleapis.com/tensorflow/tf-keras-datasets/mnist.npz\n",
            "11490434/11490434 [==============================] - 0s 0us/step\n",
            "Training data shape: (60000, 28, 28)\n",
            "Training labels shape: (60000, 10)\n",
            "Testing data shape: (10000, 28, 28)\n",
            "Testing labels shape: (10000, 10)\n"
          ]
        }
      ],
      "source": [
        "import tensorflow as tf\n",
        "\n",
        "# Load the MNIST dataset using TensorFlow 2.x\n",
        "mnist = tf.keras.datasets.mnist\n",
        "\n",
        "# Split the dataset into training and testing sets\n",
        "(x_train, y_train), (x_test, y_test) = mnist.load_data()\n",
        "\n",
        "# Normalize the data to the range [0, 1]\n",
        "x_train, x_test = x_train / 255.0, x_test / 255.0\n",
        "\n",
        "# Convert the labels to one-hot encoding\n",
        "y_train = tf.keras.utils.to_categorical(y_train, 10)\n",
        "y_test = tf.keras.utils.to_categorical(y_test, 10)\n",
        "\n",
        "# Print the shape of the datasets to verify\n",
        "print(\"Training data shape:\", x_train.shape)\n",
        "print(\"Training labels shape:\", y_train.shape)\n",
        "print(\"Testing data shape:\", x_test.shape)\n",
        "print(\"Testing labels shape:\", y_test.shape)\n"
      ]
    },
    {
      "cell_type": "code",
      "execution_count": null,
      "metadata": {
        "colab": {
          "base_uri": "https://localhost:8080/"
        },
        "id": "ApNHvp2FFApu",
        "outputId": "ac4a97c5-8ddc-4689-83dc-713c0471fd55"
      },
      "outputs": [
        {
          "output_type": "stream",
          "name": "stdout",
          "text": [
            "Requirement already satisfied: tensorflow-datasets in /usr/local/lib/python3.10/dist-packages (4.9.6)\n",
            "Requirement already satisfied: absl-py in /usr/local/lib/python3.10/dist-packages (from tensorflow-datasets) (1.4.0)\n",
            "Requirement already satisfied: click in /usr/local/lib/python3.10/dist-packages (from tensorflow-datasets) (8.1.7)\n",
            "Requirement already satisfied: dm-tree in /usr/local/lib/python3.10/dist-packages (from tensorflow-datasets) (0.1.8)\n",
            "Requirement already satisfied: immutabledict in /usr/local/lib/python3.10/dist-packages (from tensorflow-datasets) (4.2.0)\n",
            "Requirement already satisfied: numpy in /usr/local/lib/python3.10/dist-packages (from tensorflow-datasets) (1.25.2)\n",
            "Requirement already satisfied: promise in /usr/local/lib/python3.10/dist-packages (from tensorflow-datasets) (2.3)\n",
            "Requirement already satisfied: protobuf>=3.20 in /usr/local/lib/python3.10/dist-packages (from tensorflow-datasets) (3.20.3)\n",
            "Requirement already satisfied: psutil in /usr/local/lib/python3.10/dist-packages (from tensorflow-datasets) (5.9.5)\n",
            "Requirement already satisfied: pyarrow in /usr/local/lib/python3.10/dist-packages (from tensorflow-datasets) (14.0.2)\n",
            "Requirement already satisfied: requests>=2.19.0 in /usr/local/lib/python3.10/dist-packages (from tensorflow-datasets) (2.31.0)\n",
            "Requirement already satisfied: simple-parsing in /usr/local/lib/python3.10/dist-packages (from tensorflow-datasets) (0.1.5)\n",
            "Requirement already satisfied: tensorflow-metadata in /usr/local/lib/python3.10/dist-packages (from tensorflow-datasets) (1.15.0)\n",
            "Requirement already satisfied: termcolor in /usr/local/lib/python3.10/dist-packages (from tensorflow-datasets) (2.4.0)\n",
            "Requirement already satisfied: toml in /usr/local/lib/python3.10/dist-packages (from tensorflow-datasets) (0.10.2)\n",
            "Requirement already satisfied: tqdm in /usr/local/lib/python3.10/dist-packages (from tensorflow-datasets) (4.66.4)\n",
            "Requirement already satisfied: wrapt in /usr/local/lib/python3.10/dist-packages (from tensorflow-datasets) (1.14.1)\n",
            "Requirement already satisfied: array-record>=0.5.0 in /usr/local/lib/python3.10/dist-packages (from tensorflow-datasets) (0.5.1)\n",
            "Requirement already satisfied: etils[enp,epath,epy,etree]>=1.6.0 in /usr/local/lib/python3.10/dist-packages (from tensorflow-datasets) (1.7.0)\n",
            "Requirement already satisfied: typing_extensions in /usr/local/lib/python3.10/dist-packages (from etils[enp,epath,epy,etree]>=1.6.0->tensorflow-datasets) (4.12.2)\n",
            "Requirement already satisfied: fsspec in /usr/local/lib/python3.10/dist-packages (from etils[enp,epath,epy,etree]>=1.6.0->tensorflow-datasets) (2023.6.0)\n",
            "Requirement already satisfied: importlib_resources in /usr/local/lib/python3.10/dist-packages (from etils[enp,epath,epy,etree]>=1.6.0->tensorflow-datasets) (6.4.0)\n",
            "Requirement already satisfied: zipp in /usr/local/lib/python3.10/dist-packages (from etils[enp,epath,epy,etree]>=1.6.0->tensorflow-datasets) (3.19.2)\n",
            "Requirement already satisfied: charset-normalizer<4,>=2 in /usr/local/lib/python3.10/dist-packages (from requests>=2.19.0->tensorflow-datasets) (3.3.2)\n",
            "Requirement already satisfied: idna<4,>=2.5 in /usr/local/lib/python3.10/dist-packages (from requests>=2.19.0->tensorflow-datasets) (3.7)\n",
            "Requirement already satisfied: urllib3<3,>=1.21.1 in /usr/local/lib/python3.10/dist-packages (from requests>=2.19.0->tensorflow-datasets) (2.0.7)\n",
            "Requirement already satisfied: certifi>=2017.4.17 in /usr/local/lib/python3.10/dist-packages (from requests>=2.19.0->tensorflow-datasets) (2024.6.2)\n",
            "Requirement already satisfied: six in /usr/local/lib/python3.10/dist-packages (from promise->tensorflow-datasets) (1.16.0)\n",
            "Requirement already satisfied: docstring-parser~=0.15 in /usr/local/lib/python3.10/dist-packages (from simple-parsing->tensorflow-datasets) (0.16)\n",
            "tfds.core.DatasetInfo(\n",
            "    name='mnist',\n",
            "    full_name='mnist/3.0.1',\n",
            "    description=\"\"\"\n",
            "    The MNIST database of handwritten digits.\n",
            "    \"\"\",\n",
            "    homepage='http://yann.lecun.com/exdb/mnist/',\n",
            "    data_dir='/root/tensorflow_datasets/mnist/3.0.1',\n",
            "    file_format=tfrecord,\n",
            "    download_size=11.06 MiB,\n",
            "    dataset_size=21.00 MiB,\n",
            "    features=FeaturesDict({\n",
            "        'image': Image(shape=(28, 28, 1), dtype=uint8),\n",
            "        'label': ClassLabel(shape=(), dtype=int64, num_classes=10),\n",
            "    }),\n",
            "    supervised_keys=('image', 'label'),\n",
            "    disable_shuffling=False,\n",
            "    splits={\n",
            "        'test': <SplitInfo num_examples=10000, num_shards=1>,\n",
            "        'train': <SplitInfo num_examples=60000, num_shards=1>,\n",
            "    },\n",
            "    citation=\"\"\"@article{lecun2010mnist,\n",
            "      title={MNIST handwritten digit database},\n",
            "      author={LeCun, Yann and Cortes, Corinna and Burges, CJ},\n",
            "      journal={ATT Labs [Online]. Available: http://yann.lecun.com/exdb/mnist},\n",
            "      volume={2},\n",
            "      year={2010}\n",
            "    }\"\"\",\n",
            ")\n",
            "(28, 28, 1) 4\n"
          ]
        }
      ],
      "source": [
        "!pip install tensorflow-datasets\n",
        "# Install the required package for input_data\n",
        "\n",
        "# Load the MNIST dataset\n",
        "mnist, info = tfds.load('mnist', with_info=True, as_supervised=True, split='train')\n",
        "\n",
        "# Print dataset information\n",
        "print(info)\n",
        "\n",
        "# Access training data -- the mnist object itself contains the training data when split='train'\n",
        "train_data = mnist\n",
        "\n",
        "# Iterate over the dataset (example)\n",
        "for image, label in train_data.take(1):\n",
        "    print(image.shape, label.numpy())"
      ]
    },
    {
      "cell_type": "code",
      "execution_count": null,
      "metadata": {
        "colab": {
          "base_uri": "https://localhost:8080/",
          "height": 138
        },
        "id": "1CgCOJBQKKWu",
        "outputId": "dd043852-c647-44e3-9b03-9a394578cc75"
      },
      "outputs": [
        {
          "output_type": "execute_result",
          "data": {
            "text/plain": [
              "tensorflow.python.data.ops.prefetch_op._PrefetchDataset"
            ],
            "text/html": [
              "<div style=\"max-width:800px; border: 1px solid var(--colab-border-color);\"><style>\n",
              "      pre.function-repr-contents {\n",
              "        overflow-x: auto;\n",
              "        padding: 8px 12px;\n",
              "        max-height: 500px;\n",
              "      }\n",
              "\n",
              "      pre.function-repr-contents.function-repr-contents-collapsed {\n",
              "        cursor: pointer;\n",
              "        max-height: 100px;\n",
              "      }\n",
              "    </style>\n",
              "    <pre style=\"white-space: initial; background:\n",
              "         var(--colab-secondary-surface-color); padding: 8px 12px;\n",
              "         border-bottom: 1px solid var(--colab-border-color);\"><b>tensorflow.python.data.ops.prefetch_op._PrefetchDataset</b><br/>def __init__(input_dataset, buffer_size, slack_period=None, name=None)</pre><pre class=\"function-repr-contents function-repr-contents-collapsed\" style=\"\"><a class=\"filepath\" style=\"display:none\" href=\"#\">/usr/local/lib/python3.10/dist-packages/tensorflow/python/data/ops/prefetch_op.py</a>A `Dataset` that asynchronously prefetches its input.</pre>\n",
              "      <script>\n",
              "      if (google.colab.kernel.accessAllowed && google.colab.files && google.colab.files.view) {\n",
              "        for (const element of document.querySelectorAll('.filepath')) {\n",
              "          element.style.display = 'block'\n",
              "          element.onclick = (event) => {\n",
              "            event.preventDefault();\n",
              "            event.stopPropagation();\n",
              "            google.colab.files.view(element.textContent, 31);\n",
              "          };\n",
              "        }\n",
              "      }\n",
              "      for (const element of document.querySelectorAll('.function-repr-contents')) {\n",
              "        element.onclick = (event) => {\n",
              "          event.preventDefault();\n",
              "          event.stopPropagation();\n",
              "          element.classList.toggle('function-repr-contents-collapsed');\n",
              "        };\n",
              "      }\n",
              "      </script>\n",
              "      </div>"
            ]
          },
          "metadata": {},
          "execution_count": 7
        }
      ],
      "source": [
        "type(mnist)"
      ]
    },
    {
      "cell_type": "code",
      "execution_count": null,
      "metadata": {
        "colab": {
          "base_uri": "https://localhost:8080/"
        },
        "id": "voqYGlUFKiOC",
        "outputId": "7ea8a823-07c8-40a6-8938-84538f84458d"
      },
      "outputs": [
        {
          "output_type": "stream",
          "name": "stdout",
          "text": [
            "(28, 28, 1) 4\n"
          ]
        }
      ],
      "source": [
        "# Iterate over the dataset to access images and labels\n",
        "for image, label in train_data.take(1):\n",
        "    print(image.shape, label.numpy())"
      ]
    },
    {
      "cell_type": "code",
      "execution_count": null,
      "metadata": {
        "colab": {
          "base_uri": "https://localhost:8080/",
          "height": 106
        },
        "id": "Te0B61tgMI5X",
        "outputId": "a30f90f6-97f4-4c2f-c9b1-13065b8a1145"
      },
      "outputs": [
        {
          "output_type": "error",
          "ename": "IndentationError",
          "evalue": "unexpected indent (<ipython-input-10-993681230335>, line 97)",
          "traceback": [
            "\u001b[0;36m  File \u001b[0;32m\"<ipython-input-10-993681230335>\"\u001b[0;36m, line \u001b[0;32m97\u001b[0m\n\u001b[0;31m    pred = multi_layer_perceptron(x, weights, biases)\u001b[0m\n\u001b[0m    ^\u001b[0m\n\u001b[0;31mIndentationError\u001b[0m\u001b[0;31m:\u001b[0m unexpected indent\n"
          ]
        }
      ],
      "source": [
        "import tensorflow as tf\n",
        "from tensorflow.examples.tutorials.mnist import input_data\n",
        "mnist = input_data.read_data_sets('/tmp/data', one_hot=True)\n",
        "type(mnist)\n",
        "mnist.train.images\n",
        "type(mnist.train.images)\n",
        "mnist.train.images.shape\n",
        "mnist.train.images[2]\n",
        "mnist.train.images[2].shape\n",
        "\n",
        "sample = mnist.train.images[2].reshape(28, 28)\n",
        "\n",
        "import matplotlib.pyplot as plt\n",
        "%matplotlib inline\n",
        "plt.imshow(sample)\n",
        "plt.imshow(sample, cmap='gray')\n",
        "\n",
        "\n",
        "sample = mnist.train.images[123].reshape(28, 28)\n",
        "import matplotlib.pyplot as plt\n",
        "%matplotlib inline\n",
        "plt.imshow(sample)\n",
        "plt.imshow(sample, cmap='gray')\n",
        "\n",
        "sample = mnist.train.images[12].reshape(28, 28)\n",
        "import matplotlib.pyplot as plt\n",
        "%matplotlib inline\n",
        "plt.imshow(sample)\n",
        "plt.imshow(sample, cmap='gray')\n",
        "\n",
        "sample = mnist.train.images[2034].reshape(28, 28)\n",
        "import matplotlib.pyplot as plt\n",
        "%matplotlib inline\n",
        "plt.imshow(sample)\n",
        "plt.imshow(sample, cmap='gray')\n",
        "\n",
        "learning_rate = 0.001\n",
        "training_epochs = 15\n",
        "batch_size = 100\n",
        "# display_step = 1\n",
        "\n",
        "n_classes = 10\n",
        "n_samples = mnist.train.num_examples\n",
        "# dropout = 0.75 # probability to keep units\n",
        "\n",
        "n_input = 784 # MNIST data input (img shape: 28*28)\n",
        "n_hidden_1 = 256 # 1st layer number of neurons\n",
        "n_hidden_2 = 256 # 2nd layer number of neurons\n",
        "\n",
        "\n",
        "\n",
        "\n",
        "def multi_layer_perceptron(x, weights, biases):\n",
        "  \"\"\"\n",
        "  x: Placeholder for input data\n",
        "  weights: Dictionary of weights\n",
        "  biases: Dictionary of biases values\n",
        "  \"\"\"\n",
        "\n",
        "  # Hidden layer with RELU activation\n",
        "  # X * W + B\n",
        "  layer_1 = tf.add(tf.matmul(x, weights['h1']), biases['b1'])\n",
        "  # RELU(X * W + B)  -> f(x) = max(0, x)\n",
        "  layer_1 = tf.nn.relu(layer_1)\n",
        "\n",
        "  # Second Hidden Layer\n",
        "  layer_2 = tf.add(tf.matmul(layer_1, weights['h2']), biases['b2'])\n",
        "  layer_2 = tf.nn.relu(layer_2)\n",
        "\n",
        "  # Last Output Layer\n",
        "  out_layer = tf.matmul(layer_2, weights['out']) + biases['out']\n",
        "\n",
        "  return out_layer\n",
        "\n",
        "\n",
        "\n",
        "weights = {\n",
        "    \"h1\": tf.Variable(tf.random_normal([n_input, n_hidden_1])),\n",
        "    \"h2\": tf.Variable(tf.random_normal([n_hidden_1, n_hidden_2])),\n",
        "    \"out\": tf.Variable(tf.random_normal([n_hidden_2, n_classes]))\n",
        "}\n",
        "\n",
        "\n",
        "\n",
        "biases = {\n",
        "    \"b1\": tf.Variable(tf.random_normal([n_hidden_1])),\n",
        "    \"b2\": tf.Variable(tf.random_normal([n_hidden_2])),\n",
        "    \"out\": tf.Variable(tf.random_normal([n_classes]))\n",
        "}\n",
        "\n",
        "\n",
        "\n",
        "x = tf.placeholder(\"float\", [None, n_input])\n",
        "y = tf.placeholder(\"float\", [None, n_classes])\n",
        "\n",
        "\n",
        " pred = multi_layer_perceptron(x, weights, biases)\n",
        "\n",
        "\n",
        "cost = tf.reduce_mean(tf.nn.softmax_cross_entropy_with_logits(logits=pred, labels=y))\n",
        "optimizer = tf.train.AdamOptimizer(learning_rate=learning_rate).minimize(cost)\n",
        "\n",
        "\n",
        "\n",
        "\n",
        "\n",
        "# Training the Model\n",
        "t = mnist.train.next_batch(10)  # 10 = batch_size\n",
        "len(t[1])\n",
        "\n",
        "\n",
        "t = mnist.train.next_batch(1)  # 10 = batch_size\n",
        "Xsamp, ysamp = t\n",
        "Xsamp\n",
        "ysamp\n",
        "\n",
        "Xsamp.shape\n",
        "ysamp.shape\n",
        "\n",
        "plt.imshow(Xsamp.reshape(28, 28))\n",
        "plt.imshow(Xsamp.reshape(28, 28), cmap='gray') # or Greys\n",
        "\n",
        "ysamp\n",
        "\n",
        "# Run the Session\n",
        "sess = tf.InteractiveSession()\n",
        "init = tf.initialize_all_variables()\n",
        "sess.run(init)\n",
        "\n",
        "\n",
        "\n",
        "# 15 loops\n",
        "for epoch in range(training_epochs):\n",
        "\n",
        "  # Cost\n",
        "  Avg_cost = 0.0\n",
        "\n",
        "  # Total number of batches\n",
        "  total_batch = int(n_samples/batch_size)\n",
        "\n",
        "  # Loop over all batches\n",
        "  for i in range(total_batch):\n",
        "    batch_x, batch_y = mnist.train.next_batch(batch_size)\n",
        "    _, c = sess.run([optimizer, cost], feed_dict={x: batch_x, y: batch_y})\n",
        "    avg_cost += c / total_batch\n",
        "\n",
        "  print(\"Epoch:\": {} cost{:.4f}\".format(epoch + 1, cost))\n",
        "\n",
        "print(\"Model has completed {} Epochs of training\".format(training_epochs))\n",
        "print(\"Optimization Finished!\")\n",
        "\n",
        "\n",
        "\n",
        "\n",
        "\n",
        "# Model Evaluation\n",
        "correct_pred = tf.equal(tf.argmax(pred, 1), tf.argmax(y, 1))\n",
        "print(correct_pred[0])\n",
        "\n",
        "correct_pred = tf.cast(correct_pred, \"float\")\n",
        "print(correct_pred[0])\n",
        "\n",
        "accuracy = tf.reduce_mean(correct_pred)\n",
        "type(accuracy)\n",
        "\n",
        "mnist.test.labels[0]\n",
        "\n",
        "# mnist.test.images[0]\n",
        "\n",
        "\n",
        "accuracy.eval({x: mnist.test.images, y: mnist.test.labels})\n",
        "\n",
        "\n",
        "\n",
        "\n",
        "\n",
        "\n"
      ]
    },
    {
      "cell_type": "code",
      "execution_count": null,
      "metadata": {
        "colab": {
          "base_uri": "https://localhost:8080/",
          "height": 383
        },
        "id": "FcFvooOsnnyL",
        "outputId": "7ae25715-0c7c-4ce4-8616-a94f639b1055"
      },
      "outputs": [
        {
          "output_type": "error",
          "ename": "ModuleNotFoundError",
          "evalue": "No module named 'tensorflow.examples'",
          "traceback": [
            "\u001b[0;31m---------------------------------------------------------------------------\u001b[0m",
            "\u001b[0;31mModuleNotFoundError\u001b[0m                       Traceback (most recent call last)",
            "\u001b[0;32m<ipython-input-11-0e4c90f488d6>\u001b[0m in \u001b[0;36m<cell line: 2>\u001b[0;34m()\u001b[0m\n\u001b[1;32m      1\u001b[0m \u001b[0;32mimport\u001b[0m \u001b[0mtensorflow\u001b[0m \u001b[0;32mas\u001b[0m \u001b[0mtf\u001b[0m\u001b[0;34m\u001b[0m\u001b[0;34m\u001b[0m\u001b[0m\n\u001b[0;32m----> 2\u001b[0;31m \u001b[0;32mfrom\u001b[0m \u001b[0mtensorflow\u001b[0m\u001b[0;34m.\u001b[0m\u001b[0mexamples\u001b[0m\u001b[0;34m.\u001b[0m\u001b[0mtutorials\u001b[0m\u001b[0;34m.\u001b[0m\u001b[0mmnist\u001b[0m \u001b[0;32mimport\u001b[0m \u001b[0minput_data\u001b[0m\u001b[0;34m\u001b[0m\u001b[0;34m\u001b[0m\u001b[0m\n\u001b[0m\u001b[1;32m      3\u001b[0m \u001b[0;32mimport\u001b[0m \u001b[0mmatplotlib\u001b[0m\u001b[0;34m.\u001b[0m\u001b[0mpyplot\u001b[0m \u001b[0;32mas\u001b[0m \u001b[0mplt\u001b[0m\u001b[0;34m\u001b[0m\u001b[0;34m\u001b[0m\u001b[0m\n\u001b[1;32m      4\u001b[0m \u001b[0;34m\u001b[0m\u001b[0m\n\u001b[1;32m      5\u001b[0m \u001b[0;31m# Load MNIST data\u001b[0m\u001b[0;34m\u001b[0m\u001b[0;34m\u001b[0m\u001b[0m\n",
            "\u001b[0;31mModuleNotFoundError\u001b[0m: No module named 'tensorflow.examples'",
            "",
            "\u001b[0;31m---------------------------------------------------------------------------\u001b[0;32m\nNOTE: If your import is failing due to a missing package, you can\nmanually install dependencies using either !pip or !apt.\n\nTo view examples of installing some common dependencies, click the\n\"Open Examples\" button below.\n\u001b[0;31m---------------------------------------------------------------------------\u001b[0m\n"
          ],
          "errorDetails": {
            "actions": [
              {
                "action": "open_url",
                "actionText": "Open Examples",
                "url": "/notebooks/snippets/importing_libraries.ipynb"
              }
            ]
          }
        }
      ],
      "source": [
        "import tensorflow as tf\n",
        "from tensorflow.examples.tutorials.mnist import input_data\n",
        "import matplotlib.pyplot as plt\n",
        "\n",
        "# Load MNIST data\n",
        "mnist = input_data.read_data_sets('/tmp/data', one_hot=True)\n",
        "\n",
        "# Display a few samples from the dataset\n",
        "def display_sample(index):\n",
        "    sample = mnist.train.images[index].reshape(28, 28)\n",
        "    plt.imshow(sample, cmap='gray')\n",
        "    plt.show()\n",
        "\n",
        "for i in [2, 123, 12, 2034]:\n",
        "    display_sample(i)\n",
        "\n",
        "# Define parameters\n",
        "learning_rate = 0.001\n",
        "training_epochs = 15\n",
        "batch_size = 100\n",
        "\n",
        "n_classes = 10\n",
        "n_samples = mnist.train.num_examples\n",
        "\n",
        "n_input = 784  # MNIST data input (img shape: 28*28)\n",
        "n_hidden_1 = 256  # 1st layer number of neurons\n",
        "n_hidden_2 = 256  # 2nd layer number of neurons\n",
        "\n",
        "# Define the multilayer perceptron model\n",
        "def multi_layer_perceptron(x, weights, biases):\n",
        "    # Hidden layer with RELU activation\n",
        "    layer_1 = tf.add(tf.matmul(x, weights['h1']), biases['b1'])\n",
        "    layer_1 = tf.nn.relu(layer_1)\n",
        "\n",
        "    # Second hidden layer\n",
        "    layer_2 = tf.add(tf.matmul(layer_1, weights['h2']), biases['b2'])\n",
        "    layer_2 = tf.nn.relu(layer_2)\n",
        "\n",
        "    # Output layer\n",
        "    out_layer = tf.matmul(layer_2, weights['out']) + biases['out']\n",
        "    return out_layer\n",
        "\n",
        "# Store layers weight & bias\n",
        "weights = {\n",
        "    \"h1\": tf.Variable(tf.random_normal([n_input, n_hidden_1])),\n",
        "    \"h2\": tf.Variable(tf.random_normal([n_hidden_1, n_hidden_2])),\n",
        "    \"out\": tf.Variable(tf.random_normal([n_hidden_2, n_classes]))\n",
        "}\n",
        "\n",
        "biases = {\n",
        "    \"b1\": tf.Variable(tf.random_normal([n_hidden_1])),\n",
        "    \"b2\": tf.Variable(tf.random_normal([n_hidden_2])),\n",
        "    \"out\": tf.Variable(tf.random_normal([n_classes]))\n",
        "}\n",
        "\n",
        "# tf Graph input\n",
        "x = tf.placeholder(\"float\", [None, n_input])\n",
        "y = tf.placeholder(\"float\", [None, n_classes])\n",
        "\n",
        "# Construct model\n",
        "pred = multi_layer_perceptron(x, weights, biases)\n",
        "\n",
        "# Define loss and optimizer\n",
        "cost = tf.reduce_mean(tf.nn.softmax_cross_entropy_with_logits(logits=pred, labels=y))\n",
        "optimizer = tf.train.AdamOptimizer(learning_rate=learning_rate).minimize(cost)\n",
        "\n",
        "# Initializing the variables\n",
        "init = tf.global_variables_initializer()\n",
        "\n",
        "# Launch the graph\n",
        "with tf.Session() as sess:\n",
        "    sess.run(init)\n",
        "\n",
        "    # Training cycle\n",
        "    for epoch in range(training_epochs):\n",
        "        avg_cost = 0.0\n",
        "        total_batch = int(n_samples / batch_size)\n",
        "\n",
        "        # Loop over all batches\n",
        "        for i in range(total_batch):\n",
        "            batch_x, batch_y = mnist.train.next_batch(batch_size)\n",
        "            _, c = sess.run([optimizer, cost], feed_dict={x: batch_x, y: batch_y})\n",
        "            avg_cost += c / total_batch\n",
        "\n",
        "        print(\"Epoch:\", '{}'.format(epoch + 1), \"cost={:.4f}\".format(avg_cost))\n",
        "\n",
        "    print(\"Model has completed {} Epochs of training\".format(training_epochs))\n",
        "    print(\"Optimization Finished!\")\n",
        "\n",
        "    # Model evaluation\n",
        "    correct_pred = tf.equal(tf.argmax(pred, 1), tf.argmax(y, 1))\n",
        "    accuracy = tf.reduce_mean(tf.cast(correct_pred, \"float\"))\n",
        "\n",
        "    print(\"Accuracy:\", accuracy.eval({x: mnist.test.images, y: mnist.test.labels}))\n"
      ]
    },
    {
      "cell_type": "markdown",
      "source": [
        "## **MNIST Handwritten Digit Classification using a Multilayer Perceptron (MLP)**"
      ],
      "metadata": {
        "id": "R0ANZokeLYFU"
      }
    },
    {
      "cell_type": "code",
      "execution_count": null,
      "metadata": {
        "colab": {
          "base_uri": "https://localhost:8080/",
          "height": 1000
        },
        "id": "Jl933EhzpSLT",
        "outputId": "5a3fcbc3-180d-458f-ddac-c9d3ff1f8729"
      },
      "outputs": [
        {
          "output_type": "display_data",
          "data": {
            "text/plain": [
              "<Figure size 640x480 with 1 Axes>"
            ],
            "image/png": "[encoded data removed]"
          },
          "metadata": {}
        },
        {
          "output_type": "display_data",
          "data": {
            "text/plain": [
              "<Figure size 640x480 with 1 Axes>"
            ],
            "image/png": "[encoded data removed]"
          },
          "metadata": {}
        },
        {
          "output_type": "display_data",
          "data": {
            "text/plain": [
              "<Figure size 640x480 with 1 Axes>"
            ],
            "image/png": "[encoded data removed]"
          },
          "metadata": {}
        },
        {
          "output_type": "stream",
          "name": "stdout",
          "text": [
            "Epoch: 1, cost=0.2370\n",
            "Epoch: 2, cost=0.0908\n",
            "Epoch: 3, cost=0.0585\n",
            "Epoch: 4, cost=0.0412\n",
            "Epoch: 5, cost=0.0285\n",
            "Epoch: 6, cost=0.0241\n",
            "Epoch: 7, cost=0.0209\n",
            "Epoch: 8, cost=0.0165\n",
            "Epoch: 9, cost=0.0156\n",
            "Epoch: 10, cost=0.0156\n",
            "Epoch: 11, cost=0.0126\n",
            "Epoch: 12, cost=0.0116\n",
            "Epoch: 13, cost=0.0104\n",
            "Epoch: 14, cost=0.0123\n",
            "Epoch: 15, cost=0.0079\n",
            "Model has completed 15 Epochs of training\n",
            "Optimization Finished!\n",
            "Accuracy: 0.9826\n"
          ]
        }
      ],
      "source": [
        "import tensorflow as tf\n",
        "import tensorflow_datasets as tfds\n",
        "import matplotlib.pyplot as plt\n",
        "\n",
        "# Load MNIST data\n",
        "mnist_data, mnist_info = tfds.load('mnist', with_info=True, as_supervised=True)\n",
        "mnist_train, mnist_test = mnist_data['train'], mnist_data['test']\n",
        "\n",
        "# Preprocess the data\n",
        "def preprocess(image, label):\n",
        "    image = tf.cast(image, tf.float32) / 255.0\n",
        "    label = tf.one_hot(label, 10)\n",
        "    return image, label\n",
        "\n",
        "mnist_train = mnist_train.map(preprocess).batch(100)\n",
        "mnist_test = mnist_test.map(preprocess).batch(100)\n",
        "\n",
        "# Display a few samples from the dataset\n",
        "def display_sample(index):\n",
        "    for i, (img, label) in enumerate(mnist_train.take(index+1)):\n",
        "        if i == index:\n",
        "            sample = img[0].numpy().reshape(28, 28)\n",
        "            plt.imshow(sample, cmap='gray')\n",
        "            plt.show()\n",
        "\n",
        "for i in [2, 123, 12, 2034]:\n",
        "    display_sample(i)\n",
        "\n",
        "# Define parameters\n",
        "learning_rate = 0.001\n",
        "training_epochs = 15\n",
        "batch_size = 100\n",
        "\n",
        "n_classes = 10\n",
        "n_samples = mnist_info.splits['train'].num_examples\n",
        "\n",
        "n_input = 784  # MNIST data input (img shape: 28*28)\n",
        "n_hidden_1 = 256  # 1st layer number of neurons\n",
        "n_hidden_2 = 256  # 2nd layer number of neurons\n",
        "\n",
        "# Define the multilayer perceptron model\n",
        "class MLP(tf.keras.Model):\n",
        "    def __init__(self):\n",
        "        super(MLP, self).__init__()\n",
        "        self.dense1 = tf.keras.layers.Dense(n_hidden_1, activation='relu')\n",
        "        self.dense2 = tf.keras.layers.Dense(n_hidden_2, activation='relu')\n",
        "        self.out = tf.keras.layers.Dense(n_classes)\n",
        "\n",
        "    def call(self, x):\n",
        "        x = self.dense1(x)\n",
        "        x = self.dense2(x)\n",
        "        return self.out(x)\n",
        "\n",
        "model = MLP()\n",
        "\n",
        "# Loss and optimizer\n",
        "loss_fn = tf.keras.losses.CategoricalCrossentropy(from_logits=True)\n",
        "optimizer = tf.keras.optimizers.Adam(learning_rate=learning_rate)\n",
        "\n",
        "# Training the model\n",
        "@tf.function\n",
        "def train_step(batch_x, batch_y):\n",
        "    with tf.GradientTape() as tape:\n",
        "        logits = model(batch_x, training=True)\n",
        "        loss = loss_fn(batch_y, logits)\n",
        "    gradients = tape.gradient(loss, model.trainable_variables)\n",
        "    optimizer.apply_gradients(zip(gradients, model.trainable_variables))\n",
        "    return loss\n",
        "\n",
        "# Training cycle\n",
        "for epoch in range(training_epochs):\n",
        "    avg_cost = 0.0\n",
        "    total_batch = int(n_samples / batch_size)\n",
        "\n",
        "    for batch_x, batch_y in mnist_train:\n",
        "        batch_x = tf.reshape(batch_x, [-1, n_input])\n",
        "        loss = train_step(batch_x, batch_y)\n",
        "        avg_cost += loss / total_batch\n",
        "\n",
        "    print(f\"Epoch: {epoch + 1}, cost={avg_cost:.4f}\")\n",
        "\n",
        "print(f\"Model has completed {training_epochs} Epochs of training\")\n",
        "print(\"Optimization Finished!\")\n",
        "\n",
        "# Model evaluation\n",
        "@tf.function\n",
        "def test_step(batch_x, batch_y):\n",
        "    logits = model(batch_x, training=False)\n",
        "    correct_pred = tf.equal(tf.argmax(logits, 1), tf.argmax(batch_y, 1))\n",
        "    return tf.reduce_mean(tf.cast(correct_pred, tf.float32))\n",
        "\n",
        "accuracy = tf.reduce_mean([test_step(tf.reshape(batch_x, [-1, n_input]), batch_y) for batch_x, batch_y in mnist_test])\n",
        "print(f\"Accuracy: {accuracy:.4f}\")\n"
      ]
    },
    {
      "cell_type": "markdown",
      "source": [
        "\n",
        "**Title: Multi-Layer Perceptron (MLP) for MNIST Digit Classification Using TensorFlow 2.x**\n",
        "Code Explanation\n",
        "This code demonstrates how to build and train a Multi-Layer Perceptron (MLP) for the MNIST digit classification task using TensorFlow 2.x. The key steps include loading and preprocessing the data, defining the MLP model, training the model, and evaluating its accuracy.\n",
        "\n",
        "**Import Libraries**\n",
        "The required libraries tensorflow, tensorflow_datasets, and matplotlib are imported.\n",
        "\n",
        "**Load MNIST Data**\n",
        "MNIST dataset is loaded using tfds.load, and training and test sets are separated.\n",
        "\n",
        "**Preprocess Data**\n",
        "A preprocessing function is defined to normalize the images and one-hot encode the labels. The datasets are then mapped with this function and batched.\n",
        "\n",
        "**Display Samples**\n",
        "A function display_sample is defined to display specific samples from the dataset to verify the data loading process.\n",
        "\n",
        "**Define Model Parameters**\n",
        "Various parameters for training are defined, including learning rate, number of epochs, batch size, and network architecture parameters (input size, hidden layer sizes).\n",
        "\n",
        "**Define the MLP Model**\n",
        "A subclass of tf.keras.Model is created, defining the structure of the MLP with two hidden layers and an output layer.\n",
        "\n",
        "**Compile the Model**\n",
        "The model is instantiated, and the loss function and optimizer are defined.\n",
        "Train the Model\n",
        "\n",
        "A custom training loop is implemented using tf.function for optimization. This loop iterates over the training data, computes gradients, and updates the model's weights.\n",
        "\n",
        "**Evaluate the Model**\n",
        "After training, the model's accuracy is evaluated on the test dataset using a custom evaluation function.\n",
        "\n",
        "**Output Results**\n",
        "The training cost for each epoch and the final model accuracy on the test dataset are printed.\n",
        "\n"
      ],
      "metadata": {
        "id": "cEbKrfdvOq2x"
      }
    }
  ],
  "metadata": {
    "colab": {
      "provenance": []
    },
    "kernelspec": {
      "display_name": "Python 3",
      "name": "python3"
    },
    "language_info": {
      "name": "python"
    },
    "widgets": {
      "application/vnd.jupyter.widget-state+json": {
        "3d6ba575bd2e43f8b80fcb2b2fa997d0": {
          "model_module": "@jupyter-widgets/controls",
          "model_name": "HBoxModel",
          "model_module_version": "1.5.0",
          "state": {
            "_dom_classes": [],
            "_model_module": "@jupyter-widgets/controls",
            "_model_module_version": "1.5.0",
            "_model_name": "HBoxModel",
            "_view_count": null,
            "_view_module": "@jupyter-widgets/controls",
            "_view_module_version": "1.5.0",
            "_view_name": "HBoxView",
            "box_style": "",
            "children": [
              "IPY_MODEL_921867af645e4252a578d4454d0f8e8c",
              "IPY_MODEL_288b7472bdcd4e71a5202678e47b79ae",
              "IPY_MODEL_a8889e20c5b445c5a37b8520c13ed010"
            ],
            "layout": "IPY_MODEL_096a4bcf2942416d9174bea70225838f"
          }
        },
        "921867af645e4252a578d4454d0f8e8c": {
          "model_module": "@jupyter-widgets/controls",
          "model_name": "HTMLModel",
          "model_module_version": "1.5.0",
          "state": {
            "_dom_classes": [],
            "_model_module": "@jupyter-widgets/controls",
            "_model_module_version": "1.5.0",
            "_model_name": "HTMLModel",
            "_view_count": null,
            "_view_module": "@jupyter-widgets/controls",
            "_view_module_version": "1.5.0",
            "_view_name": "HTMLView",
            "description": "",
            "description_tooltip": null,
            "layout": "IPY_MODEL_1ac53a0ed01b4e668c0e52ef40567dc6",
            "placeholder": "​",
            "style": "IPY_MODEL_5168200e666f49f298e605ee8715e27f",
            "value": "Dl Completed...: 100%"
          }
        },
        "288b7472bdcd4e71a5202678e47b79ae": {
          "model_module": "@jupyter-widgets/controls",
          "model_name": "FloatProgressModel",
          "model_module_version": "1.5.0",
          "state": {
            "_dom_classes": [],
            "_model_module": "@jupyter-widgets/controls",
            "_model_module_version": "1.5.0",
            "_model_name": "FloatProgressModel",
            "_view_count": null,
            "_view_module": "@jupyter-widgets/controls",
            "_view_module_version": "1.5.0",
            "_view_name": "ProgressView",
            "bar_style": "success",
            "description": "",
            "description_tooltip": null,
            "layout": "IPY_MODEL_edb6176aa9ac49aba76c2688e029c59c",
            "max": 5,
            "min": 0,
            "orientation": "horizontal",
            "style": "IPY_MODEL_5feda3fb0e614d98b49ed551c88f312b",
            "value": 5
          }
        },
        "a8889e20c5b445c5a37b8520c13ed010": {
          "model_module": "@jupyter-widgets/controls",
          "model_name": "HTMLModel",
          "model_module_version": "1.5.0",
          "state": {
            "_dom_classes": [],
            "_model_module": "@jupyter-widgets/controls",
            "_model_module_version": "1.5.0",
            "_model_name": "HTMLModel",
            "_view_count": null,
            "_view_module": "@jupyter-widgets/controls",
            "_view_module_version": "1.5.0",
            "_view_name": "HTMLView",
            "description": "",
            "description_tooltip": null,
            "layout": "IPY_MODEL_d289d47c0b794877b1bf0ee971447b8e",
            "placeholder": "​",
            "style": "IPY_MODEL_e2fb8e9689e94dbeac6a7398b49a7b7c",
            "value": " 5/5 [00:01&lt;00:00, 12.21 file/s]"
          }
        },
        "096a4bcf2942416d9174bea70225838f": {
          "model_module": "@jupyter-widgets/base",
          "model_name": "LayoutModel",
          "model_module_version": "1.2.0",
          "state": {
            "_model_module": "@jupyter-widgets/base",
            "_model_module_version": "1.2.0",
            "_model_name": "LayoutModel",
            "_view_count": null,
            "_view_module": "@jupyter-widgets/base",
            "_view_module_version": "1.2.0",
            "_view_name": "LayoutView",
            "align_content": null,
            "align_items": null,
            "align_self": null,
            "border": null,
            "bottom": null,
            "display": null,
            "flex": null,
            "flex_flow": null,
            "grid_area": null,
            "grid_auto_columns": null,
            "grid_auto_flow": null,
            "grid_auto_rows": null,
            "grid_column": null,
            "grid_gap": null,
            "grid_row": null,
            "grid_template_areas": null,
            "grid_template_columns": null,
            "grid_template_rows": null,
            "height": null,
            "justify_content": null,
            "justify_items": null,
            "left": null,
            "margin": null,
            "max_height": null,
            "max_width": null,
            "min_height": null,
            "min_width": null,
            "object_fit": null,
            "object_position": null,
            "order": null,
            "overflow": null,
            "overflow_x": null,
            "overflow_y": null,
            "padding": null,
            "right": null,
            "top": null,
            "visibility": null,
            "width": null
          }
        },
        "1ac53a0ed01b4e668c0e52ef40567dc6": {
          "model_module": "@jupyter-widgets/base",
          "model_name": "LayoutModel",
          "model_module_version": "1.2.0",
          "state": {
            "_model_module": "@jupyter-widgets/base",
            "_model_module_version": "1.2.0",
            "_model_name": "LayoutModel",
            "_view_count": null,
            "_view_module": "@jupyter-widgets/base",
            "_view_module_version": "1.2.0",
            "_view_name": "LayoutView",
            "align_content": null,
            "align_items": null,
            "align_self": null,
            "border": null,
            "bottom": null,
            "display": null,
            "flex": null,
            "flex_flow": null,
            "grid_area": null,
            "grid_auto_columns": null,
            "grid_auto_flow": null,
            "grid_auto_rows": null,
            "grid_column": null,
            "grid_gap": null,
            "grid_row": null,
            "grid_template_areas": null,
            "grid_template_columns": null,
            "grid_template_rows": null,
            "height": null,
            "justify_content": null,
            "justify_items": null,
            "left": null,
            "margin": null,
            "max_height": null,
            "max_width": null,
            "min_height": null,
            "min_width": null,
            "object_fit": null,
            "object_position": null,
            "order": null,
            "overflow": null,
            "overflow_x": null,
            "overflow_y": null,
            "padding": null,
            "right": null,
            "top": null,
            "visibility": null,
            "width": null
          }
        },
        "5168200e666f49f298e605ee8715e27f": {
          "model_module": "@jupyter-widgets/controls",
          "model_name": "DescriptionStyleModel",
          "model_module_version": "1.5.0",
          "state": {
            "_model_module": "@jupyter-widgets/controls",
            "_model_module_version": "1.5.0",
            "_model_name": "DescriptionStyleModel",
            "_view_count": null,
            "_view_module": "@jupyter-widgets/base",
            "_view_module_version": "1.2.0",
            "_view_name": "StyleView",
            "description_width": ""
          }
        },
        "edb6176aa9ac49aba76c2688e029c59c": {
          "model_module": "@jupyter-widgets/base",
          "model_name": "LayoutModel",
          "model_module_version": "1.2.0",
          "state": {
            "_model_module": "@jupyter-widgets/base",
            "_model_module_version": "1.2.0",
            "_model_name": "LayoutModel",
            "_view_count": null,
            "_view_module": "@jupyter-widgets/base",
            "_view_module_version": "1.2.0",
            "_view_name": "LayoutView",
            "align_content": null,
            "align_items": null,
            "align_self": null,
            "border": null,
            "bottom": null,
            "display": null,
            "flex": null,
            "flex_flow": null,
            "grid_area": null,
            "grid_auto_columns": null,
            "grid_auto_flow": null,
            "grid_auto_rows": null,
            "grid_column": null,
            "grid_gap": null,
            "grid_row": null,
            "grid_template_areas": null,
            "grid_template_columns": null,
            "grid_template_rows": null,
            "height": null,
            "justify_content": null,
            "justify_items": null,
            "left": null,
            "margin": null,
            "max_height": null,
            "max_width": null,
            "min_height": null,
            "min_width": null,
            "object_fit": null,
            "object_position": null,
            "order": null,
            "overflow": null,
            "overflow_x": null,
            "overflow_y": null,
            "padding": null,
            "right": null,
            "top": null,
            "visibility": null,
            "width": null
          }
        },
        "5feda3fb0e614d98b49ed551c88f312b": {
          "model_module": "@jupyter-widgets/controls",
          "model_name": "ProgressStyleModel",
          "model_module_version": "1.5.0",
          "state": {
            "_model_module": "@jupyter-widgets/controls",
            "_model_module_version": "1.5.0",
            "_model_name": "ProgressStyleModel",
            "_view_count": null,
            "_view_module": "@jupyter-widgets/base",
            "_view_module_version": "1.2.0",
            "_view_name": "StyleView",
            "bar_color": null,
            "description_width": ""
          }
        },
        "d289d47c0b794877b1bf0ee971447b8e": {
          "model_module": "@jupyter-widgets/base",
          "model_name": "LayoutModel",
          "model_module_version": "1.2.0",
          "state": {
            "_model_module": "@jupyter-widgets/base",
            "_model_module_version": "1.2.0",
            "_model_name": "LayoutModel",
            "_view_count": null,
            "_view_module": "@jupyter-widgets/base",
            "_view_module_version": "1.2.0",
            "_view_name": "LayoutView",
            "align_content": null,
            "align_items": null,
            "align_self": null,
            "border": null,
            "bottom": null,
            "display": null,
            "flex": null,
            "flex_flow": null,
            "grid_area": null,
            "grid_auto_columns": null,
            "grid_auto_flow": null,
            "grid_auto_rows": null,
            "grid_column": null,
            "grid_gap": null,
            "grid_row": null,
            "grid_template_areas": null,
            "grid_template_columns": null,
            "grid_template_rows": null,
            "height": null,
            "justify_content": null,
            "justify_items": null,
            "left": null,
            "margin": null,
            "max_height": null,
            "max_width": null,
            "min_height": null,
            "min_width": null,
            "object_fit": null,
            "object_position": null,
            "order": null,
            "overflow": null,
            "overflow_x": null,
            "overflow_y": null,
            "padding": null,
            "right": null,
            "top": null,
            "visibility": null,
            "width": null
          }
        },
        "e2fb8e9689e94dbeac6a7398b49a7b7c": {
          "model_module": "@jupyter-widgets/controls",
          "model_name": "DescriptionStyleModel",
          "model_module_version": "1.5.0",
          "state": {
            "_model_module": "@jupyter-widgets/controls",
            "_model_module_version": "1.5.0",
            "_model_name": "DescriptionStyleModel",
            "_view_count": null,
            "_view_module": "@jupyter-widgets/base",
            "_view_module_version": "1.2.0",
            "_view_name": "StyleView",
            "description_width": ""
          }
        }
      }
    }
  },
  "nbformat": 4,
  "nbformat_minor": 0
}