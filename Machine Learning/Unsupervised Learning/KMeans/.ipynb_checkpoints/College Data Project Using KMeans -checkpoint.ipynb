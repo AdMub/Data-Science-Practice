{
 "cells": [
  {
   "cell_type": "markdown",
   "id": "481a22d0",
   "metadata": {},
   "source": [
    "K Means Clustering Project\n",
    "\n",
    "In this Project, we are using KMeans Clustering to cluster Universities into two groups, Private and Public.\n",
    "\n",
    "It is very import to note that we actually have the labels for this datasets, but we will not use for the KMeans clustering algorithm, since that is an unsupervised learning algorithm.\n",
    "\n",
    "when using the KMeans algorithm under normal circumstances, it is because you don't have labels. In this case we will use the labels to try to get an idea of how well the algorithm performed, but you won't usually do this for KMeans, so the classification report and confusion matrix at the end of this project, don't truly ,ake sense in a real wold setting!."
   ]
  },
  {
   "cell_type": "code",
   "execution_count": 1,
   "id": "82adaeae",
   "metadata": {},
   "outputs": [],
   "source": [
    "import pandas as pd\n",
    "import numpy as np \n",
    "import seaborn as sns\n",
    "import matplotlib.pyplot as plt\n",
    "%matplotlib inline "
   ]
  },
  {
   "cell_type": "code",
   "execution_count": null,
   "id": "23ec11cd",
   "metadata": {},
   "outputs": [],
   "source": []
  }
 ],
 "metadata": {
  "kernelspec": {
   "display_name": "Python 3 (ipykernel)",
   "language": "python",
   "name": "python3"
  },
  "language_info": {
   "codemirror_mode": {
    "name": "ipython",
    "version": 3
   },
   "file_extension": ".py",
   "mimetype": "text/x-python",
   "name": "python",
   "nbconvert_exporter": "python",
   "pygments_lexer": "ipython3",
   "version": "3.10.9"
  }
 },
 "nbformat": 4,
 "nbformat_minor": 5
}
